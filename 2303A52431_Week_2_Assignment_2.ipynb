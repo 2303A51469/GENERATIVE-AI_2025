{
  "nbformat": 4,
  "nbformat_minor": 0,
  "metadata": {
    "colab": {
      "provenance": [],
      "authorship_tag": "ABX9TyOKjfpEdkAHWGcrPjAH31Ce",
      "include_colab_link": true
    },
    "kernelspec": {
      "name": "python3",
      "display_name": "Python 3"
    },
    "language_info": {
      "name": "python"
    }
  },
  "cells": [
    {
      "cell_type": "markdown",
      "metadata": {
        "id": "view-in-github",
        "colab_type": "text"
      },
      "source": [
        "<a href=\"https://colab.research.google.com/github/2303A51469/GENERATIVE-AI_2025/blob/main/2303A52431_Week_2_Assignment_2.ipynb\" target=\"_parent\"><img src=\"https://colab.research.google.com/assets/colab-badge.svg\" alt=\"Open In Colab\"/></a>"
      ]
    },
    {
      "cell_type": "markdown",
      "source": [
        "#**Question 1**"
      ],
      "metadata": {
        "id": "E0KbFZJmrRJd"
      }
    },
    {
      "cell_type": "code",
      "source": [
        "milk_total = 5  # A + B <=5\n",
        "choco_total = 12  # 3A + 2B <= 12\n",
        "pro_A = 6\n",
        "pro_B = 5\n",
        "max_profit = 0\n",
        "opt_A = 0\n",
        "opt_B = 0\n",
        "for A in range(milk_total + 1):\n",
        "  for B in range(milk_total + 1):\n",
        "    if A + B <= milk_total and 3 * A + 2 * B <= choco_total:\n",
        "      profit = pro_A * A + pro_B * B\n",
        "      if profit > max_profit:\n",
        "        max_profit = profit\n",
        "        opt_A = A\n",
        "        opt_B = B\n",
        "print(f\"Optimal production: A = {opt_A}, B = {opt_B}\")\n",
        "print(f\"Maximum profit: Rs. {max_profit}\")\n"
      ],
      "metadata": {
        "colab": {
          "base_uri": "https://localhost:8080/"
        },
        "id": "hfOW4Ti3rx1P",
        "outputId": "653082c7-3435-4d73-e1d6-9567e735e7be"
      },
      "execution_count": 4,
      "outputs": [
        {
          "output_type": "stream",
          "name": "stdout",
          "text": [
            "Optimal production: A = 2, B = 3\n",
            "Maximum profit: Rs. 27\n"
          ]
        }
      ]
    },
    {
      "cell_type": "markdown",
      "source": [
        "# **Question 2**"
      ],
      "metadata": {
        "id": "yhHZsorotFub"
      }
    },
    {
      "cell_type": "code",
      "source": [
        "budget = 700000\n",
        "mandays_tot = 1200\n",
        "land_tot = 110\n",
        "price_w = 7000\n",
        "price_b = 2000\n",
        "mandays_w = 10\n",
        "mandays_b = 30\n",
        "pro_w = 50\n",
        "pro_b = 120\n",
        "max_profit = 0\n",
        "opt_w = 0\n",
        "opt_b = 0\n",
        "for wheat in range(land_tot + 1):\n",
        "  for barley in range(land_tot + 1):\n",
        "    if (wheat + barley <= land_tot and price_w * wheat + price_b * barley <= budget and mandays_w * wheat + mandays_b * barley <= mandays_tot):\n",
        "      profit = pro_w * wheat + pro_b * barley\n",
        "      if profit > max_profit:\n",
        "        max_profit = profit\n",
        "        opt_w = wheat\n",
        "        opt_b = barley\n",
        "print(f\"Optimal planting: Wheat = {opt_w} hectares, Barley = {opt_b} hectares\")\n",
        "print(f\"Maximum profit: Rs. {max_profit}\")"
      ],
      "metadata": {
        "colab": {
          "base_uri": "https://localhost:8080/"
        },
        "id": "xq_QSlUyuCxe",
        "outputId": "c68b913a-e6b1-4126-9f83-d77a9efb05d9"
      },
      "execution_count": 8,
      "outputs": [
        {
          "output_type": "stream",
          "name": "stdout",
          "text": [
            "Optimal planting: Wheat = 96 hectares, Barley = 8 hectares\n",
            "Maximum profit: Rs. 5760\n"
          ]
        }
      ]
    }
  ]
}