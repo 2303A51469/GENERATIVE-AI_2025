{
  "nbformat": 4,
  "nbformat_minor": 0,
  "metadata": {
    "colab": {
      "provenance": [],
      "authorship_tag": "ABX9TyNNi9CLtz32eUX8f4utYfzw",
      "include_colab_link": true
    },
    "kernelspec": {
      "name": "python3",
      "display_name": "Python 3"
    },
    "language_info": {
      "name": "python"
    }
  },
  "cells": [
    {
      "cell_type": "markdown",
      "metadata": {
        "id": "view-in-github",
        "colab_type": "text"
      },
      "source": [
        "<a href=\"https://colab.research.google.com/github/2303A51469/GENERATIVE-AI_2025/blob/main/2303A52431_Week_3_Assignment_3.ipynb\" target=\"_parent\"><img src=\"https://colab.research.google.com/assets/colab-badge.svg\" alt=\"Open In Colab\"/></a>"
      ]
    },
    {
      "cell_type": "markdown",
      "source": [
        "# **QUESTION 1**"
      ],
      "metadata": {
        "id": "rJYR7VOQypUl"
      }
    },
    {
      "cell_type": "code",
      "source": [
        "def f(x):\n",
        "    return 5 * x*4 + 3 * x*2 + 1\n",
        "\n",
        "def f_prime(x):\n",
        "    return 20 * x**3 + 6 * x\n",
        "\n",
        "def gradient_descent(x0, learning_rate, epsilon, max_iterations):\n",
        "    x = x0\n",
        "    iteration = 0\n",
        "\n",
        "    while iteration < max_iterations:\n",
        "        gradient = f_prime(x)\n",
        "\n",
        "        if abs(gradient) < epsilon:\n",
        "            break\n",
        "\n",
        "        x = x - learning_rate * gradient\n",
        "\n",
        "        print(f\"Iteration {iteration}: x = {x:.2f}, f(x) = {f(x):.2f}, f'(x) = {gradient:.2f}\")\n",
        "\n",
        "        iteration += 1\n",
        "\n",
        "    print(f\"\\nMinimum value found at x = {x:.2f}, f(x) = {f(x):.2f} after {iteration} iterations.\")\n",
        "    return x\n",
        "\n",
        "\n",
        "x0 = 1.0\n",
        "learning_rate = 0.1\n",
        "epsilon = 0.001\n",
        "max_iterations = 100\n",
        "\n",
        "gradient_descent(x0, learning_rate, epsilon,max_iterations)"
      ],
      "metadata": {
        "colab": {
          "base_uri": "https://localhost:8080/",
          "height": 463
        },
        "id": "dTbSFuExzTbW",
        "outputId": "f39814f8-2dce-4544-82e4-d4baa1f766b6"
      },
      "execution_count": 4,
      "outputs": [
        {
          "output_type": "stream",
          "name": "stdout",
          "text": [
            "Iteration 0: x = -1.60, f(x) = -40.60, f'(x) = 26.00\n",
            "Iteration 1: x = 7.55, f(x) = 197.35, f'(x) = -91.52\n",
            "Iteration 2: x = -858.40, f(x) = -22317.43, f'(x) = 8659.53\n",
            "Iteration 3: x = 1265029831.91, f(x) = 32890775630.67, f'(x) = -12650306903.12\n",
            "Iteration 4: x = -4048855683368040987719892992.00, f(x) = -105270247767569061282670706688.00, f'(x) = 40488556833680405479152418816.00\n",
            "Iteration 5: x = 132747663895560379390685320115646207514183660413405746239735203098413203015447085056.00, f(x) = 3451439261284570133757284994513199342038926040944856138604559505964468089437726703616.00, f'(x) = -1327476638955603632147173198252623307139746082016273420574485495740697143532809355264.00\n",
            "Iteration 6: x = -4678543339217819506657213367159102987107243120201274216005043431620135028306039605992472540317040111014367579117330688498735374561848577516276661636325884873626994607943932732171380132292365419381254142682217560731139831875759501782252559749045288960.00, f(x) = -121642126819663300813973441482432879294568336382822663283926003112134191510399882001099583844843316475095594494914624215769374803159187162944401341850193259358501181237864304855008301658200287770025997762710426574732390931307091042681465840244604534784.00, f'(x) = 46785433392178188707458027607887231500852446459602275827845308206212031057503248305220023199770674698865713229037333199789608810169609922683974755668979101380469267510761381140266219541522441059925931479794945603034153621294939014165424884259879911424.00\n"
          ]
        },
        {
          "output_type": "error",
          "ename": "OverflowError",
          "evalue": "(34, 'Numerical result out of range')",
          "traceback": [
            "\u001b[0;31m---------------------------------------------------------------------------\u001b[0m",
            "\u001b[0;31mOverflowError\u001b[0m                             Traceback (most recent call last)",
            "\u001b[0;32m<ipython-input-4-9d78980c4104>\u001b[0m in \u001b[0;36m<cell line: 0>\u001b[0;34m()\u001b[0m\n\u001b[1;32m     30\u001b[0m \u001b[0mmax_iterations\u001b[0m \u001b[0;34m=\u001b[0m \u001b[0;36m100\u001b[0m\u001b[0;34m\u001b[0m\u001b[0;34m\u001b[0m\u001b[0m\n\u001b[1;32m     31\u001b[0m \u001b[0;34m\u001b[0m\u001b[0m\n\u001b[0;32m---> 32\u001b[0;31m \u001b[0mgradient_descent\u001b[0m\u001b[0;34m(\u001b[0m\u001b[0mx0\u001b[0m\u001b[0;34m,\u001b[0m \u001b[0mlearning_rate\u001b[0m\u001b[0;34m,\u001b[0m \u001b[0mepsilon\u001b[0m\u001b[0;34m,\u001b[0m\u001b[0mmax_iterations\u001b[0m\u001b[0;34m)\u001b[0m\u001b[0;34m\u001b[0m\u001b[0;34m\u001b[0m\u001b[0m\n\u001b[0m",
            "\u001b[0;32m<ipython-input-4-9d78980c4104>\u001b[0m in \u001b[0;36mgradient_descent\u001b[0;34m(x0, learning_rate, epsilon, max_iterations)\u001b[0m\n\u001b[1;32m     10\u001b[0m \u001b[0;34m\u001b[0m\u001b[0m\n\u001b[1;32m     11\u001b[0m     \u001b[0;32mwhile\u001b[0m \u001b[0miteration\u001b[0m \u001b[0;34m<\u001b[0m \u001b[0mmax_iterations\u001b[0m\u001b[0;34m:\u001b[0m\u001b[0;34m\u001b[0m\u001b[0;34m\u001b[0m\u001b[0m\n\u001b[0;32m---> 12\u001b[0;31m         \u001b[0mgradient\u001b[0m \u001b[0;34m=\u001b[0m \u001b[0mf_prime\u001b[0m\u001b[0;34m(\u001b[0m\u001b[0mx\u001b[0m\u001b[0;34m)\u001b[0m\u001b[0;34m\u001b[0m\u001b[0;34m\u001b[0m\u001b[0m\n\u001b[0m\u001b[1;32m     13\u001b[0m \u001b[0;34m\u001b[0m\u001b[0m\n\u001b[1;32m     14\u001b[0m         \u001b[0;32mif\u001b[0m \u001b[0mabs\u001b[0m\u001b[0;34m(\u001b[0m\u001b[0mgradient\u001b[0m\u001b[0;34m)\u001b[0m \u001b[0;34m<\u001b[0m \u001b[0mepsilon\u001b[0m\u001b[0;34m:\u001b[0m\u001b[0;34m\u001b[0m\u001b[0;34m\u001b[0m\u001b[0m\n",
            "\u001b[0;32m<ipython-input-4-9d78980c4104>\u001b[0m in \u001b[0;36mf_prime\u001b[0;34m(x)\u001b[0m\n\u001b[1;32m      3\u001b[0m \u001b[0;34m\u001b[0m\u001b[0m\n\u001b[1;32m      4\u001b[0m \u001b[0;32mdef\u001b[0m \u001b[0mf_prime\u001b[0m\u001b[0;34m(\u001b[0m\u001b[0mx\u001b[0m\u001b[0;34m)\u001b[0m\u001b[0;34m:\u001b[0m\u001b[0;34m\u001b[0m\u001b[0;34m\u001b[0m\u001b[0m\n\u001b[0;32m----> 5\u001b[0;31m     \u001b[0;32mreturn\u001b[0m \u001b[0;36m20\u001b[0m \u001b[0;34m*\u001b[0m \u001b[0mx\u001b[0m\u001b[0;34m**\u001b[0m\u001b[0;36m3\u001b[0m \u001b[0;34m+\u001b[0m \u001b[0;36m6\u001b[0m \u001b[0;34m*\u001b[0m \u001b[0mx\u001b[0m\u001b[0;34m\u001b[0m\u001b[0;34m\u001b[0m\u001b[0m\n\u001b[0m\u001b[1;32m      6\u001b[0m \u001b[0;34m\u001b[0m\u001b[0m\n\u001b[1;32m      7\u001b[0m \u001b[0;32mdef\u001b[0m \u001b[0mgradient_descent\u001b[0m\u001b[0;34m(\u001b[0m\u001b[0mx0\u001b[0m\u001b[0;34m,\u001b[0m \u001b[0mlearning_rate\u001b[0m\u001b[0;34m,\u001b[0m \u001b[0mepsilon\u001b[0m\u001b[0;34m,\u001b[0m \u001b[0mmax_iterations\u001b[0m\u001b[0;34m)\u001b[0m\u001b[0;34m:\u001b[0m\u001b[0;34m\u001b[0m\u001b[0;34m\u001b[0m\u001b[0m\n",
            "\u001b[0;31mOverflowError\u001b[0m: (34, 'Numerical result out of range')"
          ]
        }
      ]
    },
    {
      "cell_type": "markdown",
      "source": [
        "# **QUESTION 2**"
      ],
      "metadata": {
        "id": "fE1OmuqWzah_"
      }
    },
    {
      "cell_type": "code",
      "source": [
        "def g(x, y):\n",
        "    return 3 * x*2 + 5 * (2.71828*(-y)) + 10\n",
        "\n",
        "def g_x(x, y):\n",
        "    return 6 * x\n",
        "\n",
        "def g_y(x, y):\n",
        "    return -5 * (2.71828**(-y))\n",
        "\n",
        "def gradient_descent(x0, y0, learning_rate, epsilon, max_iterations):\n",
        "    x, y = x0, y0\n",
        "    iteration = 0\n",
        "\n",
        "    while iteration < max_iterations:\n",
        "        grad_x = g_x(x, y)\n",
        "        grad_y = g_y(x, y)\n",
        "\n",
        "        if abs(grad_x) < epsilon and abs(grad_y) < epsilon:\n",
        "            break\n",
        "\n",
        "        x = x - learning_rate * grad_x\n",
        "        y = y - learning_rate * grad_y\n",
        "\n",
        "        print(f\"Iteration {iteration}: x = {x:.2f}, y = {y:.2f}, g(x, y) = {g(x, y):.2f}, grad_x = {grad_x:.2f}, grad_y = {grad_y:.2f}\")\n",
        "\n",
        "        iteration += 1\n",
        "\n",
        "    print(f\"\\nMinimum value found at x = {x:.2f}, y = {y:.2f}, g(x, y) = {g(x, y):.2f} after {iteration} iterations.\")\n",
        "    return x, y\n",
        "\n",
        "x0 = 1.0\n",
        "y0 = 1.0\n",
        "learning_rate = 0.1\n",
        "epsilon = 0.001\n",
        "max_iterations = 10\n",
        "\n",
        "gradient_descent(x0, y0, learning_rate, epsilon,max_iterations)"
      ],
      "metadata": {
        "colab": {
          "base_uri": "https://localhost:8080/"
        },
        "id": "ohZhFTubzd4b",
        "outputId": "a8906d38-ff9e-4f6d-d469-650e2df8b093"
      },
      "execution_count": 5,
      "outputs": [
        {
          "output_type": "stream",
          "name": "stdout",
          "text": [
            "Iteration 0: x = 0.40, y = 1.18, g(x, y) = -3.69, grad_x = 6.00, grad_y = -1.84\n",
            "Iteration 1: x = 0.16, y = 1.34, g(x, y) = -7.21, grad_x = 2.40, grad_y = -1.53\n",
            "Iteration 2: x = 0.06, y = 1.47, g(x, y) = -9.57, grad_x = 0.96, grad_y = -1.31\n",
            "Iteration 3: x = 0.03, y = 1.58, g(x, y) = -11.37, grad_x = 0.38, grad_y = -1.15\n",
            "Iteration 4: x = 0.01, y = 1.69, g(x, y) = -12.85, grad_x = 0.15, grad_y = -1.03\n",
            "Iteration 5: x = 0.00, y = 1.78, g(x, y) = -14.15, grad_x = 0.06, grad_y = -0.93\n",
            "Iteration 6: x = 0.00, y = 1.86, g(x, y) = -15.31, grad_x = 0.02, grad_y = -0.84\n",
            "Iteration 7: x = 0.00, y = 1.94, g(x, y) = -16.37, grad_x = 0.01, grad_y = -0.78\n",
            "Iteration 8: x = 0.00, y = 2.01, g(x, y) = -17.35, grad_x = 0.00, grad_y = -0.72\n",
            "Iteration 9: x = 0.00, y = 2.08, g(x, y) = -18.26, grad_x = 0.00, grad_y = -0.67\n",
            "\n",
            "Minimum value found at x = 0.00, y = 2.08, g(x, y) = -18.26 after 10 iterations.\n"
          ]
        },
        {
          "output_type": "execute_result",
          "data": {
            "text/plain": [
              "(0.0001048575999999998, 2.079353864453758)"
            ]
          },
          "metadata": {},
          "execution_count": 5
        }
      ]
    },
    {
      "cell_type": "markdown",
      "source": [
        "# **QUESTION 3**"
      ],
      "metadata": {
        "id": "HpB58Ds-zs7C"
      }
    },
    {
      "cell_type": "code",
      "source": [
        "def z(x):\n",
        "    return 1 / (1 + 2.71828**(-x))\n",
        "\n",
        "def z_prime(x):\n",
        "    return (2.71828*(-x)) / (1 + 2.71828**(-x))**2\n",
        "\n",
        "def gradient_descent(x0, learning_rate, epsilon, max_iterations):\n",
        "    x = x0\n",
        "    iteration = 0\n",
        "\n",
        "    while iteration < max_iterations:\n",
        "        gradient = z_prime(x)\n",
        "\n",
        "        if abs(gradient) < epsilon:\n",
        "            break\n",
        "\n",
        "        x = x - learning_rate * gradient\n",
        "\n",
        "        print(f\"Iteration {iteration}: x = {x:.2f}, z(x) = {z(x):.2f}, gradient = {gradient:.2f}\")\n",
        "\n",
        "        iteration += 1\n",
        "\n",
        "    print(f\"\\nMinimum value found at x = {x:.2f}, z(x) = {z(x):.2f} after {iteration} iterations.\")\n",
        "    return x\n",
        "\n",
        "\n",
        "x0 = 0.0\n",
        "learning_rate = 0.1\n",
        "epsilon = 0.001\n",
        "max_iterations = 10\n",
        "\n",
        "gradient_descent(x0, learning_rate, epsilon,max_iterations)"
      ],
      "metadata": {
        "colab": {
          "base_uri": "https://localhost:8080/"
        },
        "id": "LusIOXXXzwrn",
        "outputId": "cc8d7797-6963-4493-e471-113503237ebf"
      },
      "execution_count": 9,
      "outputs": [
        {
          "output_type": "stream",
          "name": "stdout",
          "text": [
            "\n",
            "Minimum value found at x = 0.00, z(x) = 0.50 after 0 iterations.\n"
          ]
        },
        {
          "output_type": "execute_result",
          "data": {
            "text/plain": [
              "0.0"
            ]
          },
          "metadata": {},
          "execution_count": 9
        }
      ]
    },
    {
      "cell_type": "markdown",
      "source": [
        "# **QUESTION 4**"
      ],
      "metadata": {
        "id": "EskkaqZL0Sxg"
      }
    },
    {
      "cell_type": "code",
      "source": [
        "def find_optimal_parameters(input_value, expected_output):\n",
        "\n",
        "    min_error = float('inf')\n",
        "    best_m = 0\n",
        "    best_c = 0\n",
        "\n",
        "    for m in range(-10, 11):\n",
        "        for c in range(-10, 11):\n",
        "\n",
        "            predicted_output = m * input_value + c\n",
        "\n",
        "            error = (expected_output - predicted_output) ** 2\n",
        "\n",
        "            if error < min_error:\n",
        "                min_error = error\n",
        "                best_m = m\n",
        "                best_c = c\n",
        "\n",
        "    return best_m, best_c\n",
        "\n",
        "input_value = 2\n",
        "expected_output = 0.5\n",
        "\n",
        "optimal_m, optimal_c = find_optimal_parameters(input_value, expected_output)\n",
        "\n",
        "print(\"Optimal M:\", optimal_m)\n",
        "print(\"Optimal C:\",optimal_c)"
      ],
      "metadata": {
        "colab": {
          "base_uri": "https://localhost:8080/"
        },
        "id": "_qRbbHW30Vsj",
        "outputId": "a3026267-6df0-4bd4-e926-ee8e152778b4"
      },
      "execution_count": 10,
      "outputs": [
        {
          "output_type": "stream",
          "name": "stdout",
          "text": [
            "Optimal M: -5\n",
            "Optimal C: 10\n"
          ]
        }
      ]
    }
  ]
}